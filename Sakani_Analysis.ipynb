{
  "nbformat": 4,
  "nbformat_minor": 0,
  "metadata": {
    "colab": {
      "provenance": [],
      "collapsed_sections": [],
      "authorship_tag": "ABX9TyNlIruKhjJ/RZ36D2zpOiCl"
    },
    "kernelspec": {
      "name": "python3",
      "display_name": "Python 3"
    },
    "language_info": {
      "name": "python"
    }
  },
  "cells": [
    {
      "cell_type": "code",
      "execution_count": 2,
      "metadata": {
        "id": "014qowhT4o00"
      },
      "outputs": [],
      "source": [
        "#import needed packages\n",
        "import os \n",
        "os.environ['KAGGLE_CONFIG_DIR'] = '/content'"
      ]
    },
    {
      "cell_type": "code",
      "source": [
        "#lets import Sakani dataset from kaggle\n",
        "!kaggle datasets download -d majedalhulayel/sakani-projects-saudi-arabia"
      ],
      "metadata": {
        "colab": {
          "base_uri": "https://localhost:8080/"
        },
        "id": "cGFRm-3G6vf6",
        "outputId": "7869a1b4-0c9d-494c-cefa-7cbcd2a043a9"
      },
      "execution_count": 3,
      "outputs": [
        {
          "output_type": "stream",
          "name": "stdout",
          "text": [
            "Warning: Your Kaggle API key is readable by other users on this system! To fix this, you can run 'chmod 600 /content/kaggle.json'\n",
            "Downloading sakani-projects-saudi-arabia.zip to /content\n",
            "  0% 0.00/25.5k [00:00<?, ?B/s]\n",
            "100% 25.5k/25.5k [00:00<00:00, 20.8MB/s]\n"
          ]
        }
      ]
    },
    {
      "cell_type": "code",
      "source": [
        "#lets unzip the file containing the dataset\n",
        "import zipfile as zp\n",
        "\n",
        "fLoc = \"sakani-projects-saudi-arabia.zip\"\n",
        "try:\n",
        "  with zp.ZipFile(fLoc) as dataset:\n",
        "    dataset.extractall(\"dataset\")\n",
        "    print(\"Done extracting all files!\")\n",
        "except:\n",
        "  print(\"Invalid file\")"
      ],
      "metadata": {
        "colab": {
          "base_uri": "https://localhost:8080/"
        },
        "id": "IIXPVnks66Mo",
        "outputId": "69689c85-e85c-494f-dc2d-b5a7f5336bf7"
      },
      "execution_count": 4,
      "outputs": [
        {
          "output_type": "stream",
          "name": "stdout",
          "text": [
            "Done extracting all files!\n"
          ]
        }
      ]
    },
    {
      "cell_type": "code",
      "source": [
        "#lets see the dataset\n",
        "import pandas as pd\n",
        "df = pd.read_csv(\"dataset/Sakani Projects.csv\")\n",
        "df.head()"
      ],
      "metadata": {
        "colab": {
          "base_uri": "https://localhost:8080/",
          "height": 317
        },
        "id": "T2mfKVSD75wR",
        "outputId": "82fdb15b-bd62-4f65-e982-a49d5a02719c"
      },
      "execution_count": 16,
      "outputs": [
        {
          "output_type": "execute_result",
          "data": {
            "text/plain": [
              "             id  location_lat  location_lon  city_id city_name_ar  \\\n",
              "0  project_1044     24.560109     46.519438       14       الرياض   \n",
              "1  project_1033     24.793165     46.633768       14       الرياض   \n",
              "2   project_681     24.058337     42.836919     3025         عفيف   \n",
              "3   project_378     18.446355     42.098271     3274        محايل   \n",
              "4   project_386     24.545443     44.404584      716     الدوادمي   \n",
              "\n",
              "  city_name_en  region_id region_key region_name_ar region_name_en  ...  \\\n",
              "0    AR RIYADH          1     riyadh         الرياض         Riyadh  ...   \n",
              "1    AR RIYADH          1     riyadh         الرياض         Riyadh  ...   \n",
              "2         AFIF          1     riyadh         الرياض         Riyadh  ...   \n",
              "3      MUHAYIL          7       asir           عسير          'Asir  ...   \n",
              "4  AD DUWADIMI          1     riyadh         الرياض         Riyadh  ...   \n",
              "\n",
              "   resource_id  resource_type  subsidizable          type  \\\n",
              "0         1044       projects             1  marketplaces   \n",
              "1         1033       projects             1  marketplaces   \n",
              "2          681       projects             1  marketplaces   \n",
              "3          378       projects             1  marketplaces   \n",
              "4          386       projects             1  marketplaces   \n",
              "\n",
              "   under_construction_status  unit_types_0  unit_types_1  unit_types_2  \\\n",
              "0         under_construction     apartment           NaN           NaN   \n",
              "1         under_construction     apartment           NaN           NaN   \n",
              "2                        NaN          land           NaN           NaN   \n",
              "3                        NaN          land           NaN           NaN   \n",
              "4                        NaN          land           NaN           NaN   \n",
              "\n",
              "  use_register_interest_flag  views_count  \n",
              "0                          0         1039  \n",
              "1                          0         1837  \n",
              "2                          0         5995  \n",
              "3                          0       372872  \n",
              "4                          0        50459  \n",
              "\n",
              "[5 rows x 51 columns]"
            ],
            "text/html": [
              "\n",
              "  <div id=\"df-c7f59724-e069-4908-8bd7-35b25ca8462b\">\n",
              "    <div class=\"colab-df-container\">\n",
              "      <div>\n",
              "<style scoped>\n",
              "    .dataframe tbody tr th:only-of-type {\n",
              "        vertical-align: middle;\n",
              "    }\n",
              "\n",
              "    .dataframe tbody tr th {\n",
              "        vertical-align: top;\n",
              "    }\n",
              "\n",
              "    .dataframe thead th {\n",
              "        text-align: right;\n",
              "    }\n",
              "</style>\n",
              "<table border=\"1\" class=\"dataframe\">\n",
              "  <thead>\n",
              "    <tr style=\"text-align: right;\">\n",
              "      <th></th>\n",
              "      <th>id</th>\n",
              "      <th>location_lat</th>\n",
              "      <th>location_lon</th>\n",
              "      <th>city_id</th>\n",
              "      <th>city_name_ar</th>\n",
              "      <th>city_name_en</th>\n",
              "      <th>region_id</th>\n",
              "      <th>region_key</th>\n",
              "      <th>region_name_ar</th>\n",
              "      <th>region_name_en</th>\n",
              "      <th>...</th>\n",
              "      <th>resource_id</th>\n",
              "      <th>resource_type</th>\n",
              "      <th>subsidizable</th>\n",
              "      <th>type</th>\n",
              "      <th>under_construction_status</th>\n",
              "      <th>unit_types_0</th>\n",
              "      <th>unit_types_1</th>\n",
              "      <th>unit_types_2</th>\n",
              "      <th>use_register_interest_flag</th>\n",
              "      <th>views_count</th>\n",
              "    </tr>\n",
              "  </thead>\n",
              "  <tbody>\n",
              "    <tr>\n",
              "      <th>0</th>\n",
              "      <td>project_1044</td>\n",
              "      <td>24.560109</td>\n",
              "      <td>46.519438</td>\n",
              "      <td>14</td>\n",
              "      <td>الرياض</td>\n",
              "      <td>AR RIYADH</td>\n",
              "      <td>1</td>\n",
              "      <td>riyadh</td>\n",
              "      <td>الرياض</td>\n",
              "      <td>Riyadh</td>\n",
              "      <td>...</td>\n",
              "      <td>1044</td>\n",
              "      <td>projects</td>\n",
              "      <td>1</td>\n",
              "      <td>marketplaces</td>\n",
              "      <td>under_construction</td>\n",
              "      <td>apartment</td>\n",
              "      <td>NaN</td>\n",
              "      <td>NaN</td>\n",
              "      <td>0</td>\n",
              "      <td>1039</td>\n",
              "    </tr>\n",
              "    <tr>\n",
              "      <th>1</th>\n",
              "      <td>project_1033</td>\n",
              "      <td>24.793165</td>\n",
              "      <td>46.633768</td>\n",
              "      <td>14</td>\n",
              "      <td>الرياض</td>\n",
              "      <td>AR RIYADH</td>\n",
              "      <td>1</td>\n",
              "      <td>riyadh</td>\n",
              "      <td>الرياض</td>\n",
              "      <td>Riyadh</td>\n",
              "      <td>...</td>\n",
              "      <td>1033</td>\n",
              "      <td>projects</td>\n",
              "      <td>1</td>\n",
              "      <td>marketplaces</td>\n",
              "      <td>under_construction</td>\n",
              "      <td>apartment</td>\n",
              "      <td>NaN</td>\n",
              "      <td>NaN</td>\n",
              "      <td>0</td>\n",
              "      <td>1837</td>\n",
              "    </tr>\n",
              "    <tr>\n",
              "      <th>2</th>\n",
              "      <td>project_681</td>\n",
              "      <td>24.058337</td>\n",
              "      <td>42.836919</td>\n",
              "      <td>3025</td>\n",
              "      <td>عفيف</td>\n",
              "      <td>AFIF</td>\n",
              "      <td>1</td>\n",
              "      <td>riyadh</td>\n",
              "      <td>الرياض</td>\n",
              "      <td>Riyadh</td>\n",
              "      <td>...</td>\n",
              "      <td>681</td>\n",
              "      <td>projects</td>\n",
              "      <td>1</td>\n",
              "      <td>marketplaces</td>\n",
              "      <td>NaN</td>\n",
              "      <td>land</td>\n",
              "      <td>NaN</td>\n",
              "      <td>NaN</td>\n",
              "      <td>0</td>\n",
              "      <td>5995</td>\n",
              "    </tr>\n",
              "    <tr>\n",
              "      <th>3</th>\n",
              "      <td>project_378</td>\n",
              "      <td>18.446355</td>\n",
              "      <td>42.098271</td>\n",
              "      <td>3274</td>\n",
              "      <td>محايل</td>\n",
              "      <td>MUHAYIL</td>\n",
              "      <td>7</td>\n",
              "      <td>asir</td>\n",
              "      <td>عسير</td>\n",
              "      <td>'Asir</td>\n",
              "      <td>...</td>\n",
              "      <td>378</td>\n",
              "      <td>projects</td>\n",
              "      <td>1</td>\n",
              "      <td>marketplaces</td>\n",
              "      <td>NaN</td>\n",
              "      <td>land</td>\n",
              "      <td>NaN</td>\n",
              "      <td>NaN</td>\n",
              "      <td>0</td>\n",
              "      <td>372872</td>\n",
              "    </tr>\n",
              "    <tr>\n",
              "      <th>4</th>\n",
              "      <td>project_386</td>\n",
              "      <td>24.545443</td>\n",
              "      <td>44.404584</td>\n",
              "      <td>716</td>\n",
              "      <td>الدوادمي</td>\n",
              "      <td>AD DUWADIMI</td>\n",
              "      <td>1</td>\n",
              "      <td>riyadh</td>\n",
              "      <td>الرياض</td>\n",
              "      <td>Riyadh</td>\n",
              "      <td>...</td>\n",
              "      <td>386</td>\n",
              "      <td>projects</td>\n",
              "      <td>1</td>\n",
              "      <td>marketplaces</td>\n",
              "      <td>NaN</td>\n",
              "      <td>land</td>\n",
              "      <td>NaN</td>\n",
              "      <td>NaN</td>\n",
              "      <td>0</td>\n",
              "      <td>50459</td>\n",
              "    </tr>\n",
              "  </tbody>\n",
              "</table>\n",
              "<p>5 rows × 51 columns</p>\n",
              "</div>\n",
              "      <button class=\"colab-df-convert\" onclick=\"convertToInteractive('df-c7f59724-e069-4908-8bd7-35b25ca8462b')\"\n",
              "              title=\"Convert this dataframe to an interactive table.\"\n",
              "              style=\"display:none;\">\n",
              "        \n",
              "  <svg xmlns=\"http://www.w3.org/2000/svg\" height=\"24px\"viewBox=\"0 0 24 24\"\n",
              "       width=\"24px\">\n",
              "    <path d=\"M0 0h24v24H0V0z\" fill=\"none\"/>\n",
              "    <path d=\"M18.56 5.44l.94 2.06.94-2.06 2.06-.94-2.06-.94-.94-2.06-.94 2.06-2.06.94zm-11 1L8.5 8.5l.94-2.06 2.06-.94-2.06-.94L8.5 2.5l-.94 2.06-2.06.94zm10 10l.94 2.06.94-2.06 2.06-.94-2.06-.94-.94-2.06-.94 2.06-2.06.94z\"/><path d=\"M17.41 7.96l-1.37-1.37c-.4-.4-.92-.59-1.43-.59-.52 0-1.04.2-1.43.59L10.3 9.45l-7.72 7.72c-.78.78-.78 2.05 0 2.83L4 21.41c.39.39.9.59 1.41.59.51 0 1.02-.2 1.41-.59l7.78-7.78 2.81-2.81c.8-.78.8-2.07 0-2.86zM5.41 20L4 18.59l7.72-7.72 1.47 1.35L5.41 20z\"/>\n",
              "  </svg>\n",
              "      </button>\n",
              "      \n",
              "  <style>\n",
              "    .colab-df-container {\n",
              "      display:flex;\n",
              "      flex-wrap:wrap;\n",
              "      gap: 12px;\n",
              "    }\n",
              "\n",
              "    .colab-df-convert {\n",
              "      background-color: #E8F0FE;\n",
              "      border: none;\n",
              "      border-radius: 50%;\n",
              "      cursor: pointer;\n",
              "      display: none;\n",
              "      fill: #1967D2;\n",
              "      height: 32px;\n",
              "      padding: 0 0 0 0;\n",
              "      width: 32px;\n",
              "    }\n",
              "\n",
              "    .colab-df-convert:hover {\n",
              "      background-color: #E2EBFA;\n",
              "      box-shadow: 0px 1px 2px rgba(60, 64, 67, 0.3), 0px 1px 3px 1px rgba(60, 64, 67, 0.15);\n",
              "      fill: #174EA6;\n",
              "    }\n",
              "\n",
              "    [theme=dark] .colab-df-convert {\n",
              "      background-color: #3B4455;\n",
              "      fill: #D2E3FC;\n",
              "    }\n",
              "\n",
              "    [theme=dark] .colab-df-convert:hover {\n",
              "      background-color: #434B5C;\n",
              "      box-shadow: 0px 1px 3px 1px rgba(0, 0, 0, 0.15);\n",
              "      filter: drop-shadow(0px 1px 2px rgba(0, 0, 0, 0.3));\n",
              "      fill: #FFFFFF;\n",
              "    }\n",
              "  </style>\n",
              "\n",
              "      <script>\n",
              "        const buttonEl =\n",
              "          document.querySelector('#df-c7f59724-e069-4908-8bd7-35b25ca8462b button.colab-df-convert');\n",
              "        buttonEl.style.display =\n",
              "          google.colab.kernel.accessAllowed ? 'block' : 'none';\n",
              "\n",
              "        async function convertToInteractive(key) {\n",
              "          const element = document.querySelector('#df-c7f59724-e069-4908-8bd7-35b25ca8462b');\n",
              "          const dataTable =\n",
              "            await google.colab.kernel.invokeFunction('convertToInteractive',\n",
              "                                                     [key], {});\n",
              "          if (!dataTable) return;\n",
              "\n",
              "          const docLinkHtml = 'Like what you see? Visit the ' +\n",
              "            '<a target=\"_blank\" href=https://colab.research.google.com/notebooks/data_table.ipynb>data table notebook</a>'\n",
              "            + ' to learn more about interactive tables.';\n",
              "          element.innerHTML = '';\n",
              "          dataTable['output_type'] = 'display_data';\n",
              "          await google.colab.output.renderOutput(dataTable, element);\n",
              "          const docLink = document.createElement('div');\n",
              "          docLink.innerHTML = docLinkHtml;\n",
              "          element.appendChild(docLink);\n",
              "        }\n",
              "      </script>\n",
              "    </div>\n",
              "  </div>\n",
              "  "
            ]
          },
          "metadata": {},
          "execution_count": 16
        }
      ]
    },
    {
      "cell_type": "code",
      "source": [
        "#lets see some info about the dataset\n",
        "df.info()"
      ],
      "metadata": {
        "colab": {
          "base_uri": "https://localhost:8080/"
        },
        "id": "DCzpDkuk8zmt",
        "outputId": "0e63042d-3334-44c0-bbe7-08021dccedac"
      },
      "execution_count": 17,
      "outputs": [
        {
          "output_type": "stream",
          "name": "stdout",
          "text": [
            "<class 'pandas.core.frame.DataFrame'>\n",
            "RangeIndex: 386 entries, 0 to 385\n",
            "Data columns (total 51 columns):\n",
            " #   Column                              Non-Null Count  Dtype  \n",
            "---  ------                              --------------  -----  \n",
            " 0   id                                  386 non-null    object \n",
            " 1   location_lat                        386 non-null    float64\n",
            " 2   location_lon                        386 non-null    float64\n",
            " 3   city_id                             386 non-null    int64  \n",
            " 4   city_name_ar                        386 non-null    object \n",
            " 5   city_name_en                        386 non-null    object \n",
            " 6   region_id                           386 non-null    int64  \n",
            " 7   region_key                          386 non-null    object \n",
            " 8   region_name_ar                      386 non-null    object \n",
            " 9   region_name_en                      386 non-null    object \n",
            " 10  region_order_sequence               386 non-null    int64  \n",
            " 11  availability                        386 non-null    int64  \n",
            " 12  available_units_count               386 non-null    int64  \n",
            " 13  available_units_for_auctions_count  386 non-null    int64  \n",
            " 14  basement                            386 non-null    int64  \n",
            " 15  bookable                            386 non-null    int64  \n",
            " 16  city_order_sequence                 386 non-null    int64  \n",
            " 17  delegated_by_broker                 386 non-null    int64  \n",
            " 18  developer_name                      173 non-null    object \n",
            " 19  driver_room                         386 non-null    int64  \n",
            " 20  elevator                            386 non-null    int64  \n",
            " 21  group_unit_id                       386 non-null    int64  \n",
            " 22  maid_room                           386 non-null    int64  \n",
            " 23  max_area                            386 non-null    float64\n",
            " 24  max_bathroom                        386 non-null    int64  \n",
            " 25  max_bed_room                        386 non-null    int64  \n",
            " 26  max_price                           386 non-null    float64\n",
            " 27  max_street_width                    386 non-null    int64  \n",
            " 28  max_unit_age                        386 non-null    int64  \n",
            " 29  min_area                            386 non-null    float64\n",
            " 30  min_bathroom                        386 non-null    int64  \n",
            " 31  min_bed_room                        386 non-null    int64  \n",
            " 32  min_price                           386 non-null    float64\n",
            " 33  min_street_width                    386 non-null    int64  \n",
            " 34  min_unit_age                        386 non-null    int64  \n",
            " 35  pool                                386 non-null    int64  \n",
            " 36  project_name                        386 non-null    object \n",
            " 37  project_type                        386 non-null    object \n",
            " 38  promoted                            386 non-null    int64  \n",
            " 39  publish                             386 non-null    int64  \n",
            " 40  publish_date                        385 non-null    object \n",
            " 41  resource_id                         386 non-null    int64  \n",
            " 42  resource_type                       386 non-null    object \n",
            " 43  subsidizable                        386 non-null    int64  \n",
            " 44  type                                386 non-null    object \n",
            " 45  under_construction_status           169 non-null    object \n",
            " 46  unit_types_0                        386 non-null    object \n",
            " 47  unit_types_1                        27 non-null     object \n",
            " 48  unit_types_2                        3 non-null      object \n",
            " 49  use_register_interest_flag          386 non-null    int64  \n",
            " 50  views_count                         386 non-null    int64  \n",
            "dtypes: float64(6), int64(29), object(16)\n",
            "memory usage: 153.9+ KB\n"
          ]
        }
      ]
    },
    {
      "cell_type": "code",
      "source": [
        "#lets deepdive into the dataset, to learn more\n",
        "df.columns"
      ],
      "metadata": {
        "colab": {
          "base_uri": "https://localhost:8080/"
        },
        "id": "Z1fVWyxYFTMM",
        "outputId": "c9b9e75c-7c6f-48cc-dddc-010479891725"
      },
      "execution_count": 18,
      "outputs": [
        {
          "output_type": "execute_result",
          "data": {
            "text/plain": [
              "Index(['id', 'location_lat', 'location_lon', 'city_id', 'city_name_ar',\n",
              "       'city_name_en', 'region_id', 'region_key', 'region_name_ar',\n",
              "       'region_name_en', 'region_order_sequence', 'availability',\n",
              "       'available_units_count', 'available_units_for_auctions_count',\n",
              "       'basement', 'bookable', 'city_order_sequence', 'delegated_by_broker',\n",
              "       'developer_name', 'driver_room', 'elevator', 'group_unit_id',\n",
              "       'maid_room', 'max_area', 'max_bathroom', 'max_bed_room', 'max_price',\n",
              "       'max_street_width', 'max_unit_age', 'min_area', 'min_bathroom',\n",
              "       'min_bed_room', 'min_price', 'min_street_width', 'min_unit_age', 'pool',\n",
              "       'project_name', 'project_type', 'promoted', 'publish', 'publish_date',\n",
              "       'resource_id', 'resource_type', 'subsidizable', 'type',\n",
              "       'under_construction_status', 'unit_types_0', 'unit_types_1',\n",
              "       'unit_types_2', 'use_register_interest_flag', 'views_count'],\n",
              "      dtype='object')"
            ]
          },
          "metadata": {},
          "execution_count": 18
        }
      ]
    },
    {
      "cell_type": "code",
      "source": [
        "#unique unite types\n",
        "df['unit_types_0'].unique()"
      ],
      "metadata": {
        "colab": {
          "base_uri": "https://localhost:8080/"
        },
        "id": "G7ohHL-29Kv9",
        "outputId": "182841e8-d573-4e77-fe28-9cc879b142cb"
      },
      "execution_count": 19,
      "outputs": [
        {
          "output_type": "execute_result",
          "data": {
            "text/plain": [
              "array(['apartment', 'land', 'townhouse', 'villa'], dtype=object)"
            ]
          },
          "metadata": {},
          "execution_count": 19
        }
      ]
    },
    {
      "cell_type": "code",
      "source": [
        "#unique project type\n",
        "df['project_type'].unique()"
      ],
      "metadata": {
        "colab": {
          "base_uri": "https://localhost:8080/"
        },
        "id": "rmEntiRe-O8W",
        "outputId": "e8fd8046-4dd3-4ab8-e32c-32cce81db55a"
      },
      "execution_count": 20,
      "outputs": [
        {
          "output_type": "execute_result",
          "data": {
            "text/plain": [
              "array(['offplan_private_land', 'lands_moh_land', 'offplan_moh_land',\n",
              "       'readymade_private_land', 'readymade_moh_land',\n",
              "       'lands_private_land', 'advanced_self_construction'], dtype=object)"
            ]
          },
          "metadata": {},
          "execution_count": 20
        }
      ]
    },
    {
      "cell_type": "code",
      "source": [
        "#unique developer name\n",
        "df['developer_name'].unique()"
      ],
      "metadata": {
        "colab": {
          "base_uri": "https://localhost:8080/"
        },
        "id": "HwxfvwjW-98V",
        "outputId": "0723295d-143f-4400-e05e-a260e620efed"
      },
      "execution_count": 21,
      "outputs": [
        {
          "output_type": "execute_result",
          "data": {
            "text/plain": [
              "array(['شركة المسكن المحدودة',\n",
              "       'شركة جود العمارة للتطوير والاستثمار العقاري', nan,\n",
              "       'الشركة الوطنية للإسكان', 'علي شار', 'الرائم للمقاولات',\n",
              "       'دار واعمار للاستثمار والتطوير العقاري',\n",
              "       'شركة الأثير للتطوير والاستثمار العقاري',\n",
              "       'شركة الفاف للتطوير العقاري', 'عبدالرحمن الراشد وأولاده', 'رتال',\n",
              "       'شركة الأولى لتطوير العقارات', 'ثبات المسكن العقارية',\n",
              "       'مكيون مطورون عمرانيون', 'شركة سمو العقارية مساهمة مدرجة',\n",
              "       'شركة درة الذهبية للتطوير العقاري',\n",
              "       'شركة مرسى البحار للمقاولات العامة', 'شركة أفاق الذهبية المحدودة',\n",
              "       'شركة عراب التمليك للتطوير العقاري',\n",
              "       'شركة ساطعة التعمير للتطوير والاستثمار العقاري',\n",
              "       'شركة تمكين للاستثمار و التطوير العقارى',\n",
              "       'فرع شركة خطى الخير للتشغيل والصيانة',\n",
              "       'شركة الحناكي للتطوير العقاري',\n",
              "       'شركة فيصل عبدالله بن سعيدان للاستثمار والتطويرالعقاري',\n",
              "       'شركة مساكن أفياء للتطوير والاستثمار العقاري',\n",
              "       'شركة محمد عبدالعزيز الحبيب وشركاؤه للاستثمار العقاري',\n",
              "       'شركة دور العقارية للعقارات المحدودة', 'مؤسسة لؤلؤة فرسان',\n",
              "       'شركة روض الخزامى للتطوير العقاري', 'شركة راج العقارية',\n",
              "       'وزارة الإسكان', 'شركة اعمار المدينة الاقتصادية',\n",
              "       'سعيد مسفر الغامدي للتطوير العقاري', 'سندس العقارية',\n",
              "       'شركة الأشغال العقارية', 'شركة قواعد الانماء للإنشاء والتطوير',\n",
              "       'شركة سكنا للتطوير العقاري', 'شركة تلال العقارية',\n",
              "       'شركة رافد للمقاولات عامة', 'شركة ازدهار للتطوير العقاري',\n",
              "       'شركة المنازل الذكية المحدودة',\n",
              "       'الشركة الوطنية للإسكان البناء المطور', 'شركة السليمان العقارية',\n",
              "       'شركة الضاحية المثالية للتطوير والاستثمار العقاري',\n",
              "       'شركة انشاء للتطوير والاستثمار العقاري',\n",
              "       'شركة أسوار المتحدة للتطوير العقاري',\n",
              "       'الشركة الخليجية للتعمير العقاري', 'شركه أفضل مسكن العقاريه',\n",
              "       'التحالف العقارية', 'الديار العربية للتطوير العقاري',\n",
              "       'أبراج ذهب للتطوير العقاري', 'مجموعة سلمان بن سعيدان للعقارات',\n",
              "       'شمائل الخليج للمقاولات', 'شركة جدارة العقارية',\n",
              "       'منازل العصرية للتطوير والاستثمار العقاري', 'ساني العامرية',\n",
              "       'مدى الشرقية للتطوير', 'عبر المملكة العقارية',\n",
              "       'مايا للتطوير والاستثمار العقاري', 'بن جارالله',\n",
              "       'التميمي للخدمات والصيانة العالمية',\n",
              "       'شركة المسكن الوافي للتطوير العقاري', 'صرح التقنية',\n",
              "       'لدن للإستثمار', 'سدين العربية للعقارات',\n",
              "       'حمد وأحمد محمد المزيني العقارية', 'شركة طراز العربية',\n",
              "       'الاستثمارات المبتكرة العقارية', 'شركة فضاء الاستثمار العقارية',\n",
              "       'شركة مسكن العربية للاستثمار والتطوير العقاري',\n",
              "       'شركة سمو الأصالة للتطوير والاستثمار العقاري',\n",
              "       'شركة أسيكو السعودية المحدودة', 'مؤسسة عنواني العقارية',\n",
              "       'شركة عبداللطيف جميل للأراضي المحدودة', 'شركة حجاج وشركاه',\n",
              "       'إدارة للتنمية والتطوير', 'التميمي للتجارة والتعهدات المحدودة',\n",
              "       'عنان العقارية', 'دار الأركان', 'الجبيل للتعمير', 'تحالف الزامل',\n",
              "       'شركة روانا للتطوير والاستثمار العقاري',\n",
              "       'شركة مرجان الشرقية للمقاولات العامة', 'شركة أزهر القابضة',\n",
              "       'الفايزية', 'تواصل الإمداد', 'الخماسية',\n",
              "       'شركة إسكان الحاكمية للاستثمار والتطوير العقاري',\n",
              "       'الشركة العقارية السعودية',\n",
              "       'شركة افاق التعمير للتطوير والاستثمار العقاري',\n",
              "       'شركة مدى المحدودة', 'بنائات العقارية', 'شركه رسو العقارية'],\n",
              "      dtype=object)"
            ]
          },
          "metadata": {},
          "execution_count": 21
        }
      ]
    },
    {
      "cell_type": "code",
      "source": [
        "#unique region key\n",
        "df['region_key'].unique()"
      ],
      "metadata": {
        "colab": {
          "base_uri": "https://localhost:8080/"
        },
        "id": "BNG2CQ2c_ZRg",
        "outputId": "335601fd-7b74-4947-e12e-715022b66c61"
      },
      "execution_count": 22,
      "outputs": [
        {
          "output_type": "execute_result",
          "data": {
            "text/plain": [
              "array(['riyadh', 'asir', 'qassim', 'northern_borders', 'makkah', 'jizan',\n",
              "       'hail', 'madinah', 'tabuk', 'jawf', 'eastern_province', 'najran',\n",
              "       'bahah'], dtype=object)"
            ]
          },
          "metadata": {},
          "execution_count": 22
        }
      ]
    },
    {
      "cell_type": "code",
      "source": [
        "#columns before cleaning\n",
        "df.columns"
      ],
      "metadata": {
        "colab": {
          "base_uri": "https://localhost:8080/"
        },
        "id": "z_5YV7SGFOic",
        "outputId": "a2489bdc-0e55-4e0f-ee96-812e5057c06c"
      },
      "execution_count": 23,
      "outputs": [
        {
          "output_type": "execute_result",
          "data": {
            "text/plain": [
              "Index(['id', 'location_lat', 'location_lon', 'city_id', 'city_name_ar',\n",
              "       'city_name_en', 'region_id', 'region_key', 'region_name_ar',\n",
              "       'region_name_en', 'region_order_sequence', 'availability',\n",
              "       'available_units_count', 'available_units_for_auctions_count',\n",
              "       'basement', 'bookable', 'city_order_sequence', 'delegated_by_broker',\n",
              "       'developer_name', 'driver_room', 'elevator', 'group_unit_id',\n",
              "       'maid_room', 'max_area', 'max_bathroom', 'max_bed_room', 'max_price',\n",
              "       'max_street_width', 'max_unit_age', 'min_area', 'min_bathroom',\n",
              "       'min_bed_room', 'min_price', 'min_street_width', 'min_unit_age', 'pool',\n",
              "       'project_name', 'project_type', 'promoted', 'publish', 'publish_date',\n",
              "       'resource_id', 'resource_type', 'subsidizable', 'type',\n",
              "       'under_construction_status', 'unit_types_0', 'unit_types_1',\n",
              "       'unit_types_2', 'use_register_interest_flag', 'views_count'],\n",
              "      dtype='object')"
            ]
          },
          "metadata": {},
          "execution_count": 23
        }
      ]
    },
    {
      "cell_type": "code",
      "source": [
        "#un wanted columns to delete\n",
        "df.drop(['city_id','region_id','region_key','region_order_sequence','city_order_sequence','group_unit_id','promoted','unit_types_1', \\\n",
        "          'unit_types_2','type','resource_id', 'resource_type', 'subsidizable'], axis=1, inplace=True)"
      ],
      "metadata": {
        "id": "f9WimfrOrXd4"
      },
      "execution_count": 24,
      "outputs": []
    },
    {
      "cell_type": "code",
      "source": [
        "#columns after cleaning\n",
        "df.columns"
      ],
      "metadata": {
        "colab": {
          "base_uri": "https://localhost:8080/"
        },
        "id": "hF-X2Im9rZI7",
        "outputId": "2aadc5be-48d8-4855-85b1-2a3b9f598f2a"
      },
      "execution_count": 25,
      "outputs": [
        {
          "output_type": "execute_result",
          "data": {
            "text/plain": [
              "Index(['id', 'location_lat', 'location_lon', 'city_name_ar', 'city_name_en',\n",
              "       'region_name_ar', 'region_name_en', 'availability',\n",
              "       'available_units_count', 'available_units_for_auctions_count',\n",
              "       'basement', 'bookable', 'delegated_by_broker', 'developer_name',\n",
              "       'driver_room', 'elevator', 'maid_room', 'max_area', 'max_bathroom',\n",
              "       'max_bed_room', 'max_price', 'max_street_width', 'max_unit_age',\n",
              "       'min_area', 'min_bathroom', 'min_bed_room', 'min_price',\n",
              "       'min_street_width', 'min_unit_age', 'pool', 'project_name',\n",
              "       'project_type', 'publish', 'publish_date', 'under_construction_status',\n",
              "       'unit_types_0', 'use_register_interest_flag', 'views_count'],\n",
              "      dtype='object')"
            ]
          },
          "metadata": {},
          "execution_count": 25
        }
      ]
    },
    {
      "cell_type": "code",
      "source": [],
      "metadata": {
        "id": "nGOeqGSPzoOR"
      },
      "execution_count": null,
      "outputs": []
    }
  ]
}