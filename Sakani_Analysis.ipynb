{
  "nbformat": 4,
  "nbformat_minor": 0,
  "metadata": {
    "colab": {
      "provenance": [],
      "collapsed_sections": [],
      "authorship_tag": "ABX9TyOWJfPRcKuSH/zE6duwqzEq"
    },
    "kernelspec": {
      "name": "python3",
      "display_name": "Python 3"
    },
    "language_info": {
      "name": "python"
    }
  },
  "cells": [
    {
      "cell_type": "markdown",
      "source": [
        "# EDA & ETL Part"
      ],
      "metadata": {
        "id": "WvnbpGSHTV3r"
      }
    },
    {
      "cell_type": "code",
      "source": [
        "#download needed packages\n",
        "!pip install python-dotenv"
      ],
      "metadata": {
        "colab": {
          "base_uri": "https://localhost:8080/"
        },
        "id": "Dk7pKozsgsc9",
        "outputId": "dcc6e609-a825-4798-9810-2d77bb6bf0d7"
      },
      "execution_count": null,
      "outputs": [
        {
          "output_type": "stream",
          "name": "stdout",
          "text": [
            "Looking in indexes: https://pypi.org/simple, https://us-python.pkg.dev/colab-wheels/public/simple/\n",
            "Collecting python-dotenv\n",
            "  Downloading python_dotenv-0.21.0-py3-none-any.whl (18 kB)\n",
            "Installing collected packages: python-dotenv\n",
            "Successfully installed python-dotenv-0.21.0\n"
          ]
        }
      ]
    },
    {
      "cell_type": "code",
      "execution_count": null,
      "metadata": {
        "id": "014qowhT4o00"
      },
      "outputs": [],
      "source": [
        "#import needed packages\n",
        "import os\n",
        "import pandas as pd\n",
        "import zipfile as zp\n",
        "import sqlalchemy as conn\n",
        "from dotenv import dotenv_values\n",
        "#Declaring main drive folder path\n",
        "os.environ['KAGGLE_CONFIG_DIR'] = '/content'"
      ]
    },
    {
      "cell_type": "code",
      "source": [
        "#importing our secrets from environment varibales\n",
        "config = dotenv_values(\".env\")"
      ],
      "metadata": {
        "id": "8S_4bFtLhJuA"
      },
      "execution_count": null,
      "outputs": []
    },
    {
      "cell_type": "code",
      "source": [
        "#lets import Sakani dataset from kaggle\n",
        "!kaggle datasets download -d majedalhulayel/sakani-projects-saudi-arabia"
      ],
      "metadata": {
        "colab": {
          "base_uri": "https://localhost:8080/"
        },
        "id": "cGFRm-3G6vf6",
        "outputId": "99b38fbf-6b77-4083-bc1e-6afccb6dee56"
      },
      "execution_count": null,
      "outputs": [
        {
          "output_type": "stream",
          "name": "stdout",
          "text": [
            "Warning: Your Kaggle API key is readable by other users on this system! To fix this, you can run 'chmod 600 /content/kaggle.json'\n",
            "Downloading sakani-projects-saudi-arabia.zip to /content\n",
            "  0% 0.00/25.5k [00:00<?, ?B/s]\n",
            "100% 25.5k/25.5k [00:00<00:00, 20.7MB/s]\n"
          ]
        }
      ]
    },
    {
      "cell_type": "code",
      "source": [
        "#lets unzip the file containing the dataset\n",
        "try:\n",
        "  with zp.ZipFile('sakani-projects-saudi-arabia.zip') as data: #original file path\n",
        "    data.extractall(\"dataset\") #saving path\n",
        "    print(\"Done extracting all files!\")\n",
        "except:\n",
        "  print(\"Invalid file\")"
      ],
      "metadata": {
        "colab": {
          "base_uri": "https://localhost:8080/"
        },
        "id": "IIXPVnks66Mo",
        "outputId": "b747fa34-fbb7-4b33-9d9d-0c5171bce19d"
      },
      "execution_count": null,
      "outputs": [
        {
          "output_type": "stream",
          "name": "stdout",
          "text": [
            "Done extracting all files!\n"
          ]
        }
      ]
    },
    {
      "cell_type": "code",
      "source": [
        "#lets see the dataset\n",
        "df = pd.read_csv(\"dataset/Sakani Projects.csv\")\n",
        "df.head()"
      ],
      "metadata": {
        "colab": {
          "base_uri": "https://localhost:8080/",
          "height": 317
        },
        "id": "T2mfKVSD75wR",
        "outputId": "5f6f5fe5-745a-4d5a-d3e6-76dbf701a36f"
      },
      "execution_count": null,
      "outputs": [
        {
          "output_type": "execute_result",
          "data": {
            "text/plain": [
              "             id  location_lat  location_lon  city_id city_name_ar  \\\n",
              "0  project_1044     24.560109     46.519438       14       الرياض   \n",
              "1  project_1033     24.793165     46.633768       14       الرياض   \n",
              "2   project_681     24.058337     42.836919     3025         عفيف   \n",
              "3   project_378     18.446355     42.098271     3274        محايل   \n",
              "4   project_386     24.545443     44.404584      716     الدوادمي   \n",
              "\n",
              "  city_name_en  region_id region_key region_name_ar region_name_en  ...  \\\n",
              "0    AR RIYADH          1     riyadh         الرياض         Riyadh  ...   \n",
              "1    AR RIYADH          1     riyadh         الرياض         Riyadh  ...   \n",
              "2         AFIF          1     riyadh         الرياض         Riyadh  ...   \n",
              "3      MUHAYIL          7       asir           عسير          'Asir  ...   \n",
              "4  AD DUWADIMI          1     riyadh         الرياض         Riyadh  ...   \n",
              "\n",
              "   resource_id  resource_type  subsidizable          type  \\\n",
              "0         1044       projects             1  marketplaces   \n",
              "1         1033       projects             1  marketplaces   \n",
              "2          681       projects             1  marketplaces   \n",
              "3          378       projects             1  marketplaces   \n",
              "4          386       projects             1  marketplaces   \n",
              "\n",
              "   under_construction_status  unit_types_0  unit_types_1  unit_types_2  \\\n",
              "0         under_construction     apartment           NaN           NaN   \n",
              "1         under_construction     apartment           NaN           NaN   \n",
              "2                        NaN          land           NaN           NaN   \n",
              "3                        NaN          land           NaN           NaN   \n",
              "4                        NaN          land           NaN           NaN   \n",
              "\n",
              "  use_register_interest_flag  views_count  \n",
              "0                          0         1039  \n",
              "1                          0         1837  \n",
              "2                          0         5995  \n",
              "3                          0       372872  \n",
              "4                          0        50459  \n",
              "\n",
              "[5 rows x 51 columns]"
            ],
            "text/html": [
              "\n",
              "  <div id=\"df-d8a6fed4-21f6-4041-9b3d-3d04c55cfa7c\">\n",
              "    <div class=\"colab-df-container\">\n",
              "      <div>\n",
              "<style scoped>\n",
              "    .dataframe tbody tr th:only-of-type {\n",
              "        vertical-align: middle;\n",
              "    }\n",
              "\n",
              "    .dataframe tbody tr th {\n",
              "        vertical-align: top;\n",
              "    }\n",
              "\n",
              "    .dataframe thead th {\n",
              "        text-align: right;\n",
              "    }\n",
              "</style>\n",
              "<table border=\"1\" class=\"dataframe\">\n",
              "  <thead>\n",
              "    <tr style=\"text-align: right;\">\n",
              "      <th></th>\n",
              "      <th>id</th>\n",
              "      <th>location_lat</th>\n",
              "      <th>location_lon</th>\n",
              "      <th>city_id</th>\n",
              "      <th>city_name_ar</th>\n",
              "      <th>city_name_en</th>\n",
              "      <th>region_id</th>\n",
              "      <th>region_key</th>\n",
              "      <th>region_name_ar</th>\n",
              "      <th>region_name_en</th>\n",
              "      <th>...</th>\n",
              "      <th>resource_id</th>\n",
              "      <th>resource_type</th>\n",
              "      <th>subsidizable</th>\n",
              "      <th>type</th>\n",
              "      <th>under_construction_status</th>\n",
              "      <th>unit_types_0</th>\n",
              "      <th>unit_types_1</th>\n",
              "      <th>unit_types_2</th>\n",
              "      <th>use_register_interest_flag</th>\n",
              "      <th>views_count</th>\n",
              "    </tr>\n",
              "  </thead>\n",
              "  <tbody>\n",
              "    <tr>\n",
              "      <th>0</th>\n",
              "      <td>project_1044</td>\n",
              "      <td>24.560109</td>\n",
              "      <td>46.519438</td>\n",
              "      <td>14</td>\n",
              "      <td>الرياض</td>\n",
              "      <td>AR RIYADH</td>\n",
              "      <td>1</td>\n",
              "      <td>riyadh</td>\n",
              "      <td>الرياض</td>\n",
              "      <td>Riyadh</td>\n",
              "      <td>...</td>\n",
              "      <td>1044</td>\n",
              "      <td>projects</td>\n",
              "      <td>1</td>\n",
              "      <td>marketplaces</td>\n",
              "      <td>under_construction</td>\n",
              "      <td>apartment</td>\n",
              "      <td>NaN</td>\n",
              "      <td>NaN</td>\n",
              "      <td>0</td>\n",
              "      <td>1039</td>\n",
              "    </tr>\n",
              "    <tr>\n",
              "      <th>1</th>\n",
              "      <td>project_1033</td>\n",
              "      <td>24.793165</td>\n",
              "      <td>46.633768</td>\n",
              "      <td>14</td>\n",
              "      <td>الرياض</td>\n",
              "      <td>AR RIYADH</td>\n",
              "      <td>1</td>\n",
              "      <td>riyadh</td>\n",
              "      <td>الرياض</td>\n",
              "      <td>Riyadh</td>\n",
              "      <td>...</td>\n",
              "      <td>1033</td>\n",
              "      <td>projects</td>\n",
              "      <td>1</td>\n",
              "      <td>marketplaces</td>\n",
              "      <td>under_construction</td>\n",
              "      <td>apartment</td>\n",
              "      <td>NaN</td>\n",
              "      <td>NaN</td>\n",
              "      <td>0</td>\n",
              "      <td>1837</td>\n",
              "    </tr>\n",
              "    <tr>\n",
              "      <th>2</th>\n",
              "      <td>project_681</td>\n",
              "      <td>24.058337</td>\n",
              "      <td>42.836919</td>\n",
              "      <td>3025</td>\n",
              "      <td>عفيف</td>\n",
              "      <td>AFIF</td>\n",
              "      <td>1</td>\n",
              "      <td>riyadh</td>\n",
              "      <td>الرياض</td>\n",
              "      <td>Riyadh</td>\n",
              "      <td>...</td>\n",
              "      <td>681</td>\n",
              "      <td>projects</td>\n",
              "      <td>1</td>\n",
              "      <td>marketplaces</td>\n",
              "      <td>NaN</td>\n",
              "      <td>land</td>\n",
              "      <td>NaN</td>\n",
              "      <td>NaN</td>\n",
              "      <td>0</td>\n",
              "      <td>5995</td>\n",
              "    </tr>\n",
              "    <tr>\n",
              "      <th>3</th>\n",
              "      <td>project_378</td>\n",
              "      <td>18.446355</td>\n",
              "      <td>42.098271</td>\n",
              "      <td>3274</td>\n",
              "      <td>محايل</td>\n",
              "      <td>MUHAYIL</td>\n",
              "      <td>7</td>\n",
              "      <td>asir</td>\n",
              "      <td>عسير</td>\n",
              "      <td>'Asir</td>\n",
              "      <td>...</td>\n",
              "      <td>378</td>\n",
              "      <td>projects</td>\n",
              "      <td>1</td>\n",
              "      <td>marketplaces</td>\n",
              "      <td>NaN</td>\n",
              "      <td>land</td>\n",
              "      <td>NaN</td>\n",
              "      <td>NaN</td>\n",
              "      <td>0</td>\n",
              "      <td>372872</td>\n",
              "    </tr>\n",
              "    <tr>\n",
              "      <th>4</th>\n",
              "      <td>project_386</td>\n",
              "      <td>24.545443</td>\n",
              "      <td>44.404584</td>\n",
              "      <td>716</td>\n",
              "      <td>الدوادمي</td>\n",
              "      <td>AD DUWADIMI</td>\n",
              "      <td>1</td>\n",
              "      <td>riyadh</td>\n",
              "      <td>الرياض</td>\n",
              "      <td>Riyadh</td>\n",
              "      <td>...</td>\n",
              "      <td>386</td>\n",
              "      <td>projects</td>\n",
              "      <td>1</td>\n",
              "      <td>marketplaces</td>\n",
              "      <td>NaN</td>\n",
              "      <td>land</td>\n",
              "      <td>NaN</td>\n",
              "      <td>NaN</td>\n",
              "      <td>0</td>\n",
              "      <td>50459</td>\n",
              "    </tr>\n",
              "  </tbody>\n",
              "</table>\n",
              "<p>5 rows × 51 columns</p>\n",
              "</div>\n",
              "      <button class=\"colab-df-convert\" onclick=\"convertToInteractive('df-d8a6fed4-21f6-4041-9b3d-3d04c55cfa7c')\"\n",
              "              title=\"Convert this dataframe to an interactive table.\"\n",
              "              style=\"display:none;\">\n",
              "        \n",
              "  <svg xmlns=\"http://www.w3.org/2000/svg\" height=\"24px\"viewBox=\"0 0 24 24\"\n",
              "       width=\"24px\">\n",
              "    <path d=\"M0 0h24v24H0V0z\" fill=\"none\"/>\n",
              "    <path d=\"M18.56 5.44l.94 2.06.94-2.06 2.06-.94-2.06-.94-.94-2.06-.94 2.06-2.06.94zm-11 1L8.5 8.5l.94-2.06 2.06-.94-2.06-.94L8.5 2.5l-.94 2.06-2.06.94zm10 10l.94 2.06.94-2.06 2.06-.94-2.06-.94-.94-2.06-.94 2.06-2.06.94z\"/><path d=\"M17.41 7.96l-1.37-1.37c-.4-.4-.92-.59-1.43-.59-.52 0-1.04.2-1.43.59L10.3 9.45l-7.72 7.72c-.78.78-.78 2.05 0 2.83L4 21.41c.39.39.9.59 1.41.59.51 0 1.02-.2 1.41-.59l7.78-7.78 2.81-2.81c.8-.78.8-2.07 0-2.86zM5.41 20L4 18.59l7.72-7.72 1.47 1.35L5.41 20z\"/>\n",
              "  </svg>\n",
              "      </button>\n",
              "      \n",
              "  <style>\n",
              "    .colab-df-container {\n",
              "      display:flex;\n",
              "      flex-wrap:wrap;\n",
              "      gap: 12px;\n",
              "    }\n",
              "\n",
              "    .colab-df-convert {\n",
              "      background-color: #E8F0FE;\n",
              "      border: none;\n",
              "      border-radius: 50%;\n",
              "      cursor: pointer;\n",
              "      display: none;\n",
              "      fill: #1967D2;\n",
              "      height: 32px;\n",
              "      padding: 0 0 0 0;\n",
              "      width: 32px;\n",
              "    }\n",
              "\n",
              "    .colab-df-convert:hover {\n",
              "      background-color: #E2EBFA;\n",
              "      box-shadow: 0px 1px 2px rgba(60, 64, 67, 0.3), 0px 1px 3px 1px rgba(60, 64, 67, 0.15);\n",
              "      fill: #174EA6;\n",
              "    }\n",
              "\n",
              "    [theme=dark] .colab-df-convert {\n",
              "      background-color: #3B4455;\n",
              "      fill: #D2E3FC;\n",
              "    }\n",
              "\n",
              "    [theme=dark] .colab-df-convert:hover {\n",
              "      background-color: #434B5C;\n",
              "      box-shadow: 0px 1px 3px 1px rgba(0, 0, 0, 0.15);\n",
              "      filter: drop-shadow(0px 1px 2px rgba(0, 0, 0, 0.3));\n",
              "      fill: #FFFFFF;\n",
              "    }\n",
              "  </style>\n",
              "\n",
              "      <script>\n",
              "        const buttonEl =\n",
              "          document.querySelector('#df-d8a6fed4-21f6-4041-9b3d-3d04c55cfa7c button.colab-df-convert');\n",
              "        buttonEl.style.display =\n",
              "          google.colab.kernel.accessAllowed ? 'block' : 'none';\n",
              "\n",
              "        async function convertToInteractive(key) {\n",
              "          const element = document.querySelector('#df-d8a6fed4-21f6-4041-9b3d-3d04c55cfa7c');\n",
              "          const dataTable =\n",
              "            await google.colab.kernel.invokeFunction('convertToInteractive',\n",
              "                                                     [key], {});\n",
              "          if (!dataTable) return;\n",
              "\n",
              "          const docLinkHtml = 'Like what you see? Visit the ' +\n",
              "            '<a target=\"_blank\" href=https://colab.research.google.com/notebooks/data_table.ipynb>data table notebook</a>'\n",
              "            + ' to learn more about interactive tables.';\n",
              "          element.innerHTML = '';\n",
              "          dataTable['output_type'] = 'display_data';\n",
              "          await google.colab.output.renderOutput(dataTable, element);\n",
              "          const docLink = document.createElement('div');\n",
              "          docLink.innerHTML = docLinkHtml;\n",
              "          element.appendChild(docLink);\n",
              "        }\n",
              "      </script>\n",
              "    </div>\n",
              "  </div>\n",
              "  "
            ]
          },
          "metadata": {},
          "execution_count": 8
        }
      ]
    },
    {
      "cell_type": "code",
      "source": [
        "#lets see some info about the dataset\n",
        "df.info()"
      ],
      "metadata": {
        "colab": {
          "base_uri": "https://localhost:8080/"
        },
        "id": "DCzpDkuk8zmt",
        "outputId": "3bc480f5-9950-4304-89a0-286375f0d2d8"
      },
      "execution_count": null,
      "outputs": [
        {
          "output_type": "stream",
          "name": "stdout",
          "text": [
            "<class 'pandas.core.frame.DataFrame'>\n",
            "RangeIndex: 386 entries, 0 to 385\n",
            "Data columns (total 51 columns):\n",
            " #   Column                              Non-Null Count  Dtype  \n",
            "---  ------                              --------------  -----  \n",
            " 0   id                                  386 non-null    object \n",
            " 1   location_lat                        386 non-null    float64\n",
            " 2   location_lon                        386 non-null    float64\n",
            " 3   city_id                             386 non-null    int64  \n",
            " 4   city_name_ar                        386 non-null    object \n",
            " 5   city_name_en                        386 non-null    object \n",
            " 6   region_id                           386 non-null    int64  \n",
            " 7   region_key                          386 non-null    object \n",
            " 8   region_name_ar                      386 non-null    object \n",
            " 9   region_name_en                      386 non-null    object \n",
            " 10  region_order_sequence               386 non-null    int64  \n",
            " 11  availability                        386 non-null    int64  \n",
            " 12  available_units_count               386 non-null    int64  \n",
            " 13  available_units_for_auctions_count  386 non-null    int64  \n",
            " 14  basement                            386 non-null    int64  \n",
            " 15  bookable                            386 non-null    int64  \n",
            " 16  city_order_sequence                 386 non-null    int64  \n",
            " 17  delegated_by_broker                 386 non-null    int64  \n",
            " 18  developer_name                      173 non-null    object \n",
            " 19  driver_room                         386 non-null    int64  \n",
            " 20  elevator                            386 non-null    int64  \n",
            " 21  group_unit_id                       386 non-null    int64  \n",
            " 22  maid_room                           386 non-null    int64  \n",
            " 23  max_area                            386 non-null    float64\n",
            " 24  max_bathroom                        386 non-null    int64  \n",
            " 25  max_bed_room                        386 non-null    int64  \n",
            " 26  max_price                           386 non-null    float64\n",
            " 27  max_street_width                    386 non-null    int64  \n",
            " 28  max_unit_age                        386 non-null    int64  \n",
            " 29  min_area                            386 non-null    float64\n",
            " 30  min_bathroom                        386 non-null    int64  \n",
            " 31  min_bed_room                        386 non-null    int64  \n",
            " 32  min_price                           386 non-null    float64\n",
            " 33  min_street_width                    386 non-null    int64  \n",
            " 34  min_unit_age                        386 non-null    int64  \n",
            " 35  pool                                386 non-null    int64  \n",
            " 36  project_name                        386 non-null    object \n",
            " 37  project_type                        386 non-null    object \n",
            " 38  promoted                            386 non-null    int64  \n",
            " 39  publish                             386 non-null    int64  \n",
            " 40  publish_date                        385 non-null    object \n",
            " 41  resource_id                         386 non-null    int64  \n",
            " 42  resource_type                       386 non-null    object \n",
            " 43  subsidizable                        386 non-null    int64  \n",
            " 44  type                                386 non-null    object \n",
            " 45  under_construction_status           169 non-null    object \n",
            " 46  unit_types_0                        386 non-null    object \n",
            " 47  unit_types_1                        27 non-null     object \n",
            " 48  unit_types_2                        3 non-null      object \n",
            " 49  use_register_interest_flag          386 non-null    int64  \n",
            " 50  views_count                         386 non-null    int64  \n",
            "dtypes: float64(6), int64(29), object(16)\n",
            "memory usage: 153.9+ KB\n"
          ]
        }
      ]
    },
    {
      "cell_type": "code",
      "source": [
        "#lets deepdive into the dataset, to learn more\n",
        "df.columns"
      ],
      "metadata": {
        "colab": {
          "base_uri": "https://localhost:8080/"
        },
        "id": "Z1fVWyxYFTMM",
        "outputId": "9408975f-fd01-4e22-a9a8-e4b644146288"
      },
      "execution_count": null,
      "outputs": [
        {
          "output_type": "execute_result",
          "data": {
            "text/plain": [
              "Index(['id', 'location_lat', 'location_lon', 'city_id', 'city_name_ar',\n",
              "       'city_name_en', 'region_id', 'region_key', 'region_name_ar',\n",
              "       'region_name_en', 'region_order_sequence', 'availability',\n",
              "       'available_units_count', 'available_units_for_auctions_count',\n",
              "       'basement', 'bookable', 'city_order_sequence', 'delegated_by_broker',\n",
              "       'developer_name', 'driver_room', 'elevator', 'group_unit_id',\n",
              "       'maid_room', 'max_area', 'max_bathroom', 'max_bed_room', 'max_price',\n",
              "       'max_street_width', 'max_unit_age', 'min_area', 'min_bathroom',\n",
              "       'min_bed_room', 'min_price', 'min_street_width', 'min_unit_age', 'pool',\n",
              "       'project_name', 'project_type', 'promoted', 'publish', 'publish_date',\n",
              "       'resource_id', 'resource_type', 'subsidizable', 'type',\n",
              "       'under_construction_status', 'unit_types_0', 'unit_types_1',\n",
              "       'unit_types_2', 'use_register_interest_flag', 'views_count'],\n",
              "      dtype='object')"
            ]
          },
          "metadata": {},
          "execution_count": 10
        }
      ]
    },
    {
      "cell_type": "code",
      "source": [
        "#unique unite types\n",
        "df['unit_types_0'].unique()"
      ],
      "metadata": {
        "colab": {
          "base_uri": "https://localhost:8080/"
        },
        "id": "G7ohHL-29Kv9",
        "outputId": "9dab049a-e7c6-4e09-a688-db978e3eea93"
      },
      "execution_count": null,
      "outputs": [
        {
          "output_type": "execute_result",
          "data": {
            "text/plain": [
              "array(['apartment', 'land', 'townhouse', 'villa'], dtype=object)"
            ]
          },
          "metadata": {},
          "execution_count": 11
        }
      ]
    },
    {
      "cell_type": "code",
      "source": [
        "#unique project type\n",
        "df['project_type'].unique()"
      ],
      "metadata": {
        "colab": {
          "base_uri": "https://localhost:8080/"
        },
        "id": "rmEntiRe-O8W",
        "outputId": "e3923b40-c440-4848-a17a-9e00e7b573a1"
      },
      "execution_count": null,
      "outputs": [
        {
          "output_type": "execute_result",
          "data": {
            "text/plain": [
              "array(['offplan_private_land', 'lands_moh_land', 'offplan_moh_land',\n",
              "       'readymade_private_land', 'readymade_moh_land',\n",
              "       'lands_private_land', 'advanced_self_construction'], dtype=object)"
            ]
          },
          "metadata": {},
          "execution_count": 12
        }
      ]
    },
    {
      "cell_type": "code",
      "source": [
        "#unique developer name\n",
        "df['developer_name'].unique()"
      ],
      "metadata": {
        "colab": {
          "base_uri": "https://localhost:8080/"
        },
        "id": "HwxfvwjW-98V",
        "outputId": "0d76bc90-fe38-445e-ad19-986a6705b8dd"
      },
      "execution_count": null,
      "outputs": [
        {
          "output_type": "execute_result",
          "data": {
            "text/plain": [
              "array(['شركة المسكن المحدودة',\n",
              "       'شركة جود العمارة للتطوير والاستثمار العقاري', nan,\n",
              "       'الشركة الوطنية للإسكان', 'علي شار', 'الرائم للمقاولات',\n",
              "       'دار واعمار للاستثمار والتطوير العقاري',\n",
              "       'شركة الأثير للتطوير والاستثمار العقاري',\n",
              "       'شركة الفاف للتطوير العقاري', 'عبدالرحمن الراشد وأولاده', 'رتال',\n",
              "       'شركة الأولى لتطوير العقارات', 'ثبات المسكن العقارية',\n",
              "       'مكيون مطورون عمرانيون', 'شركة سمو العقارية مساهمة مدرجة',\n",
              "       'شركة درة الذهبية للتطوير العقاري',\n",
              "       'شركة مرسى البحار للمقاولات العامة', 'شركة أفاق الذهبية المحدودة',\n",
              "       'شركة عراب التمليك للتطوير العقاري',\n",
              "       'شركة ساطعة التعمير للتطوير والاستثمار العقاري',\n",
              "       'شركة تمكين للاستثمار و التطوير العقارى',\n",
              "       'فرع شركة خطى الخير للتشغيل والصيانة',\n",
              "       'شركة الحناكي للتطوير العقاري',\n",
              "       'شركة فيصل عبدالله بن سعيدان للاستثمار والتطويرالعقاري',\n",
              "       'شركة مساكن أفياء للتطوير والاستثمار العقاري',\n",
              "       'شركة محمد عبدالعزيز الحبيب وشركاؤه للاستثمار العقاري',\n",
              "       'شركة دور العقارية للعقارات المحدودة', 'مؤسسة لؤلؤة فرسان',\n",
              "       'شركة روض الخزامى للتطوير العقاري', 'شركة راج العقارية',\n",
              "       'وزارة الإسكان', 'شركة اعمار المدينة الاقتصادية',\n",
              "       'سعيد مسفر الغامدي للتطوير العقاري', 'سندس العقارية',\n",
              "       'شركة الأشغال العقارية', 'شركة قواعد الانماء للإنشاء والتطوير',\n",
              "       'شركة سكنا للتطوير العقاري', 'شركة تلال العقارية',\n",
              "       'شركة رافد للمقاولات عامة', 'شركة ازدهار للتطوير العقاري',\n",
              "       'شركة المنازل الذكية المحدودة',\n",
              "       'الشركة الوطنية للإسكان البناء المطور', 'شركة السليمان العقارية',\n",
              "       'شركة الضاحية المثالية للتطوير والاستثمار العقاري',\n",
              "       'شركة انشاء للتطوير والاستثمار العقاري',\n",
              "       'شركة أسوار المتحدة للتطوير العقاري',\n",
              "       'الشركة الخليجية للتعمير العقاري', 'شركه أفضل مسكن العقاريه',\n",
              "       'التحالف العقارية', 'الديار العربية للتطوير العقاري',\n",
              "       'أبراج ذهب للتطوير العقاري', 'مجموعة سلمان بن سعيدان للعقارات',\n",
              "       'شمائل الخليج للمقاولات', 'شركة جدارة العقارية',\n",
              "       'منازل العصرية للتطوير والاستثمار العقاري', 'ساني العامرية',\n",
              "       'مدى الشرقية للتطوير', 'عبر المملكة العقارية',\n",
              "       'مايا للتطوير والاستثمار العقاري', 'بن جارالله',\n",
              "       'التميمي للخدمات والصيانة العالمية',\n",
              "       'شركة المسكن الوافي للتطوير العقاري', 'صرح التقنية',\n",
              "       'لدن للإستثمار', 'سدين العربية للعقارات',\n",
              "       'حمد وأحمد محمد المزيني العقارية', 'شركة طراز العربية',\n",
              "       'الاستثمارات المبتكرة العقارية', 'شركة فضاء الاستثمار العقارية',\n",
              "       'شركة مسكن العربية للاستثمار والتطوير العقاري',\n",
              "       'شركة سمو الأصالة للتطوير والاستثمار العقاري',\n",
              "       'شركة أسيكو السعودية المحدودة', 'مؤسسة عنواني العقارية',\n",
              "       'شركة عبداللطيف جميل للأراضي المحدودة', 'شركة حجاج وشركاه',\n",
              "       'إدارة للتنمية والتطوير', 'التميمي للتجارة والتعهدات المحدودة',\n",
              "       'عنان العقارية', 'دار الأركان', 'الجبيل للتعمير', 'تحالف الزامل',\n",
              "       'شركة روانا للتطوير والاستثمار العقاري',\n",
              "       'شركة مرجان الشرقية للمقاولات العامة', 'شركة أزهر القابضة',\n",
              "       'الفايزية', 'تواصل الإمداد', 'الخماسية',\n",
              "       'شركة إسكان الحاكمية للاستثمار والتطوير العقاري',\n",
              "       'الشركة العقارية السعودية',\n",
              "       'شركة افاق التعمير للتطوير والاستثمار العقاري',\n",
              "       'شركة مدى المحدودة', 'بنائات العقارية', 'شركه رسو العقارية'],\n",
              "      dtype=object)"
            ]
          },
          "metadata": {},
          "execution_count": 13
        }
      ]
    },
    {
      "cell_type": "code",
      "source": [
        "#unique region key\n",
        "df['region_key'].unique()"
      ],
      "metadata": {
        "colab": {
          "base_uri": "https://localhost:8080/"
        },
        "id": "BNG2CQ2c_ZRg",
        "outputId": "9ba297d8-0349-4b80-e529-5f46663f88a4"
      },
      "execution_count": null,
      "outputs": [
        {
          "output_type": "execute_result",
          "data": {
            "text/plain": [
              "array(['riyadh', 'asir', 'qassim', 'northern_borders', 'makkah', 'jizan',\n",
              "       'hail', 'madinah', 'tabuk', 'jawf', 'eastern_province', 'najran',\n",
              "       'bahah'], dtype=object)"
            ]
          },
          "metadata": {},
          "execution_count": 14
        }
      ]
    },
    {
      "cell_type": "code",
      "source": [
        "#columns before drop\n",
        "df.columns"
      ],
      "metadata": {
        "colab": {
          "base_uri": "https://localhost:8080/"
        },
        "id": "z_5YV7SGFOic",
        "outputId": "8c75e9e8-ad20-460d-b3ef-1c8ab94021d4"
      },
      "execution_count": null,
      "outputs": [
        {
          "output_type": "execute_result",
          "data": {
            "text/plain": [
              "Index(['id', 'location_lat', 'location_lon', 'city_id', 'city_name_ar',\n",
              "       'city_name_en', 'region_id', 'region_key', 'region_name_ar',\n",
              "       'region_name_en', 'region_order_sequence', 'availability',\n",
              "       'available_units_count', 'available_units_for_auctions_count',\n",
              "       'basement', 'bookable', 'city_order_sequence', 'delegated_by_broker',\n",
              "       'developer_name', 'driver_room', 'elevator', 'group_unit_id',\n",
              "       'maid_room', 'max_area', 'max_bathroom', 'max_bed_room', 'max_price',\n",
              "       'max_street_width', 'max_unit_age', 'min_area', 'min_bathroom',\n",
              "       'min_bed_room', 'min_price', 'min_street_width', 'min_unit_age', 'pool',\n",
              "       'project_name', 'project_type', 'promoted', 'publish', 'publish_date',\n",
              "       'resource_id', 'resource_type', 'subsidizable', 'type',\n",
              "       'under_construction_status', 'unit_types_0', 'unit_types_1',\n",
              "       'unit_types_2', 'use_register_interest_flag', 'views_count'],\n",
              "      dtype='object')"
            ]
          },
          "metadata": {},
          "execution_count": 15
        }
      ]
    },
    {
      "cell_type": "code",
      "source": [
        "#un_wanted columns to delete\n",
        "df.drop(['city_id','region_id','region_key','region_order_sequence','city_order_sequence','group_unit_id','promoted','unit_types_1', \\\n",
        "          'unit_types_2','type','resource_id', 'resource_type', 'subsidizable'], axis=1, inplace=True)"
      ],
      "metadata": {
        "id": "f9WimfrOrXd4"
      },
      "execution_count": null,
      "outputs": []
    },
    {
      "cell_type": "code",
      "source": [
        "#columns after drop\n",
        "df.columns"
      ],
      "metadata": {
        "colab": {
          "base_uri": "https://localhost:8080/"
        },
        "id": "hF-X2Im9rZI7",
        "outputId": "8645917a-adf7-42f7-d328-044d9b028ed6"
      },
      "execution_count": null,
      "outputs": [
        {
          "output_type": "execute_result",
          "data": {
            "text/plain": [
              "Index(['id', 'location_lat', 'location_lon', 'city_name_ar', 'city_name_en',\n",
              "       'region_name_ar', 'region_name_en', 'availability',\n",
              "       'available_units_count', 'available_units_for_auctions_count',\n",
              "       'basement', 'bookable', 'delegated_by_broker', 'developer_name',\n",
              "       'driver_room', 'elevator', 'maid_room', 'max_area', 'max_bathroom',\n",
              "       'max_bed_room', 'max_price', 'max_street_width', 'max_unit_age',\n",
              "       'min_area', 'min_bathroom', 'min_bed_room', 'min_price',\n",
              "       'min_street_width', 'min_unit_age', 'pool', 'project_name',\n",
              "       'project_type', 'publish', 'publish_date', 'under_construction_status',\n",
              "       'unit_types_0', 'use_register_interest_flag', 'views_count'],\n",
              "      dtype='object')"
            ]
          },
          "metadata": {},
          "execution_count": 17
        }
      ]
    },
    {
      "cell_type": "code",
      "source": [
        "#len of the new columns\n",
        "print(f'Length of Data (After Column Filtered): {len(df.columns)}')"
      ],
      "metadata": {
        "id": "nGOeqGSPzoOR",
        "colab": {
          "base_uri": "https://localhost:8080/"
        },
        "outputId": "ff634207-c0f9-4461-bd08-997152ecc6f1"
      },
      "execution_count": null,
      "outputs": [
        {
          "output_type": "stream",
          "name": "stdout",
          "text": [
            "Length of Data (After Column Filtered): 38\n"
          ]
        }
      ]
    },
    {
      "cell_type": "code",
      "source": [
        "#lets clean row-level data\n",
        "df['developer_name'].fillna('لا يوجد مدخل', inplace=True)\n",
        "df['publish_date'].ffill(inplace=True) #filling nan values with prev value\n",
        "df['under_construction_status'].fillna('no entry', inplace=True)"
      ],
      "metadata": {
        "id": "J0CMEg_TsVuc"
      },
      "execution_count": null,
      "outputs": []
    },
    {
      "cell_type": "code",
      "source": [
        "#lets see data after cleaning\n",
        "df.head()"
      ],
      "metadata": {
        "colab": {
          "base_uri": "https://localhost:8080/",
          "height": 369
        },
        "id": "1VqsAOcYZ-VF",
        "outputId": "cacacdf7-a415-4c06-ac76-39d1320a1a49"
      },
      "execution_count": null,
      "outputs": [
        {
          "output_type": "execute_result",
          "data": {
            "text/plain": [
              "             id  location_lat  location_lon city_name_ar city_name_en  \\\n",
              "0  project_1044     24.560109     46.519438       الرياض    AR RIYADH   \n",
              "1  project_1033     24.793165     46.633768       الرياض    AR RIYADH   \n",
              "2   project_681     24.058337     42.836919         عفيف         AFIF   \n",
              "3   project_378     18.446355     42.098271        محايل      MUHAYIL   \n",
              "4   project_386     24.545443     44.404584     الدوادمي  AD DUWADIMI   \n",
              "\n",
              "  region_name_ar region_name_en  availability  available_units_count  \\\n",
              "0         الرياض         Riyadh             1                     14   \n",
              "1         الرياض         Riyadh             1                      0   \n",
              "2         الرياض         Riyadh             1                     61   \n",
              "3           عسير          'Asir             0                      0   \n",
              "4         الرياض         Riyadh             0                      0   \n",
              "\n",
              "   available_units_for_auctions_count  ...  min_unit_age  pool  \\\n",
              "0                                   0  ...             0     0   \n",
              "1                                   0  ...             0     0   \n",
              "2                                   0  ...             0     0   \n",
              "3                                   0  ...             0     0   \n",
              "4                                   0  ...             0     0   \n",
              "\n",
              "                  project_name          project_type  publish  publish_date  \\\n",
              "0           المسكن ١٢ - الرياض  offplan_private_land        1    2022-08-30   \n",
              "1              جلامور - الرياض  offplan_private_land        1    2022-08-29   \n",
              "2        مخطط 879  - العيدانية        lands_moh_land        1    2022-06-30   \n",
              "3      مخطط جوهرة محايل - عسير        lands_moh_land        1    2022-01-20   \n",
              "4  مخطط طيبة العليا - الدوادمي        lands_moh_land        1    2022-01-20   \n",
              "\n",
              "   under_construction_status  unit_types_0  use_register_interest_flag  \\\n",
              "0         under_construction     apartment                           0   \n",
              "1         under_construction     apartment                           0   \n",
              "2                   no entry          land                           0   \n",
              "3                   no entry          land                           0   \n",
              "4                   no entry          land                           0   \n",
              "\n",
              "   views_count  \n",
              "0         1039  \n",
              "1         1837  \n",
              "2         5995  \n",
              "3       372872  \n",
              "4        50459  \n",
              "\n",
              "[5 rows x 38 columns]"
            ],
            "text/html": [
              "\n",
              "  <div id=\"df-34552f76-0ea9-47db-8d56-b5ccdb9d3c0a\">\n",
              "    <div class=\"colab-df-container\">\n",
              "      <div>\n",
              "<style scoped>\n",
              "    .dataframe tbody tr th:only-of-type {\n",
              "        vertical-align: middle;\n",
              "    }\n",
              "\n",
              "    .dataframe tbody tr th {\n",
              "        vertical-align: top;\n",
              "    }\n",
              "\n",
              "    .dataframe thead th {\n",
              "        text-align: right;\n",
              "    }\n",
              "</style>\n",
              "<table border=\"1\" class=\"dataframe\">\n",
              "  <thead>\n",
              "    <tr style=\"text-align: right;\">\n",
              "      <th></th>\n",
              "      <th>id</th>\n",
              "      <th>location_lat</th>\n",
              "      <th>location_lon</th>\n",
              "      <th>city_name_ar</th>\n",
              "      <th>city_name_en</th>\n",
              "      <th>region_name_ar</th>\n",
              "      <th>region_name_en</th>\n",
              "      <th>availability</th>\n",
              "      <th>available_units_count</th>\n",
              "      <th>available_units_for_auctions_count</th>\n",
              "      <th>...</th>\n",
              "      <th>min_unit_age</th>\n",
              "      <th>pool</th>\n",
              "      <th>project_name</th>\n",
              "      <th>project_type</th>\n",
              "      <th>publish</th>\n",
              "      <th>publish_date</th>\n",
              "      <th>under_construction_status</th>\n",
              "      <th>unit_types_0</th>\n",
              "      <th>use_register_interest_flag</th>\n",
              "      <th>views_count</th>\n",
              "    </tr>\n",
              "  </thead>\n",
              "  <tbody>\n",
              "    <tr>\n",
              "      <th>0</th>\n",
              "      <td>project_1044</td>\n",
              "      <td>24.560109</td>\n",
              "      <td>46.519438</td>\n",
              "      <td>الرياض</td>\n",
              "      <td>AR RIYADH</td>\n",
              "      <td>الرياض</td>\n",
              "      <td>Riyadh</td>\n",
              "      <td>1</td>\n",
              "      <td>14</td>\n",
              "      <td>0</td>\n",
              "      <td>...</td>\n",
              "      <td>0</td>\n",
              "      <td>0</td>\n",
              "      <td>المسكن ١٢ - الرياض</td>\n",
              "      <td>offplan_private_land</td>\n",
              "      <td>1</td>\n",
              "      <td>2022-08-30</td>\n",
              "      <td>under_construction</td>\n",
              "      <td>apartment</td>\n",
              "      <td>0</td>\n",
              "      <td>1039</td>\n",
              "    </tr>\n",
              "    <tr>\n",
              "      <th>1</th>\n",
              "      <td>project_1033</td>\n",
              "      <td>24.793165</td>\n",
              "      <td>46.633768</td>\n",
              "      <td>الرياض</td>\n",
              "      <td>AR RIYADH</td>\n",
              "      <td>الرياض</td>\n",
              "      <td>Riyadh</td>\n",
              "      <td>1</td>\n",
              "      <td>0</td>\n",
              "      <td>0</td>\n",
              "      <td>...</td>\n",
              "      <td>0</td>\n",
              "      <td>0</td>\n",
              "      <td>جلامور - الرياض</td>\n",
              "      <td>offplan_private_land</td>\n",
              "      <td>1</td>\n",
              "      <td>2022-08-29</td>\n",
              "      <td>under_construction</td>\n",
              "      <td>apartment</td>\n",
              "      <td>0</td>\n",
              "      <td>1837</td>\n",
              "    </tr>\n",
              "    <tr>\n",
              "      <th>2</th>\n",
              "      <td>project_681</td>\n",
              "      <td>24.058337</td>\n",
              "      <td>42.836919</td>\n",
              "      <td>عفيف</td>\n",
              "      <td>AFIF</td>\n",
              "      <td>الرياض</td>\n",
              "      <td>Riyadh</td>\n",
              "      <td>1</td>\n",
              "      <td>61</td>\n",
              "      <td>0</td>\n",
              "      <td>...</td>\n",
              "      <td>0</td>\n",
              "      <td>0</td>\n",
              "      <td>مخطط 879  - العيدانية</td>\n",
              "      <td>lands_moh_land</td>\n",
              "      <td>1</td>\n",
              "      <td>2022-06-30</td>\n",
              "      <td>no entry</td>\n",
              "      <td>land</td>\n",
              "      <td>0</td>\n",
              "      <td>5995</td>\n",
              "    </tr>\n",
              "    <tr>\n",
              "      <th>3</th>\n",
              "      <td>project_378</td>\n",
              "      <td>18.446355</td>\n",
              "      <td>42.098271</td>\n",
              "      <td>محايل</td>\n",
              "      <td>MUHAYIL</td>\n",
              "      <td>عسير</td>\n",
              "      <td>'Asir</td>\n",
              "      <td>0</td>\n",
              "      <td>0</td>\n",
              "      <td>0</td>\n",
              "      <td>...</td>\n",
              "      <td>0</td>\n",
              "      <td>0</td>\n",
              "      <td>مخطط جوهرة محايل - عسير</td>\n",
              "      <td>lands_moh_land</td>\n",
              "      <td>1</td>\n",
              "      <td>2022-01-20</td>\n",
              "      <td>no entry</td>\n",
              "      <td>land</td>\n",
              "      <td>0</td>\n",
              "      <td>372872</td>\n",
              "    </tr>\n",
              "    <tr>\n",
              "      <th>4</th>\n",
              "      <td>project_386</td>\n",
              "      <td>24.545443</td>\n",
              "      <td>44.404584</td>\n",
              "      <td>الدوادمي</td>\n",
              "      <td>AD DUWADIMI</td>\n",
              "      <td>الرياض</td>\n",
              "      <td>Riyadh</td>\n",
              "      <td>0</td>\n",
              "      <td>0</td>\n",
              "      <td>0</td>\n",
              "      <td>...</td>\n",
              "      <td>0</td>\n",
              "      <td>0</td>\n",
              "      <td>مخطط طيبة العليا - الدوادمي</td>\n",
              "      <td>lands_moh_land</td>\n",
              "      <td>1</td>\n",
              "      <td>2022-01-20</td>\n",
              "      <td>no entry</td>\n",
              "      <td>land</td>\n",
              "      <td>0</td>\n",
              "      <td>50459</td>\n",
              "    </tr>\n",
              "  </tbody>\n",
              "</table>\n",
              "<p>5 rows × 38 columns</p>\n",
              "</div>\n",
              "      <button class=\"colab-df-convert\" onclick=\"convertToInteractive('df-34552f76-0ea9-47db-8d56-b5ccdb9d3c0a')\"\n",
              "              title=\"Convert this dataframe to an interactive table.\"\n",
              "              style=\"display:none;\">\n",
              "        \n",
              "  <svg xmlns=\"http://www.w3.org/2000/svg\" height=\"24px\"viewBox=\"0 0 24 24\"\n",
              "       width=\"24px\">\n",
              "    <path d=\"M0 0h24v24H0V0z\" fill=\"none\"/>\n",
              "    <path d=\"M18.56 5.44l.94 2.06.94-2.06 2.06-.94-2.06-.94-.94-2.06-.94 2.06-2.06.94zm-11 1L8.5 8.5l.94-2.06 2.06-.94-2.06-.94L8.5 2.5l-.94 2.06-2.06.94zm10 10l.94 2.06.94-2.06 2.06-.94-2.06-.94-.94-2.06-.94 2.06-2.06.94z\"/><path d=\"M17.41 7.96l-1.37-1.37c-.4-.4-.92-.59-1.43-.59-.52 0-1.04.2-1.43.59L10.3 9.45l-7.72 7.72c-.78.78-.78 2.05 0 2.83L4 21.41c.39.39.9.59 1.41.59.51 0 1.02-.2 1.41-.59l7.78-7.78 2.81-2.81c.8-.78.8-2.07 0-2.86zM5.41 20L4 18.59l7.72-7.72 1.47 1.35L5.41 20z\"/>\n",
              "  </svg>\n",
              "      </button>\n",
              "      \n",
              "  <style>\n",
              "    .colab-df-container {\n",
              "      display:flex;\n",
              "      flex-wrap:wrap;\n",
              "      gap: 12px;\n",
              "    }\n",
              "\n",
              "    .colab-df-convert {\n",
              "      background-color: #E8F0FE;\n",
              "      border: none;\n",
              "      border-radius: 50%;\n",
              "      cursor: pointer;\n",
              "      display: none;\n",
              "      fill: #1967D2;\n",
              "      height: 32px;\n",
              "      padding: 0 0 0 0;\n",
              "      width: 32px;\n",
              "    }\n",
              "\n",
              "    .colab-df-convert:hover {\n",
              "      background-color: #E2EBFA;\n",
              "      box-shadow: 0px 1px 2px rgba(60, 64, 67, 0.3), 0px 1px 3px 1px rgba(60, 64, 67, 0.15);\n",
              "      fill: #174EA6;\n",
              "    }\n",
              "\n",
              "    [theme=dark] .colab-df-convert {\n",
              "      background-color: #3B4455;\n",
              "      fill: #D2E3FC;\n",
              "    }\n",
              "\n",
              "    [theme=dark] .colab-df-convert:hover {\n",
              "      background-color: #434B5C;\n",
              "      box-shadow: 0px 1px 3px 1px rgba(0, 0, 0, 0.15);\n",
              "      filter: drop-shadow(0px 1px 2px rgba(0, 0, 0, 0.3));\n",
              "      fill: #FFFFFF;\n",
              "    }\n",
              "  </style>\n",
              "\n",
              "      <script>\n",
              "        const buttonEl =\n",
              "          document.querySelector('#df-34552f76-0ea9-47db-8d56-b5ccdb9d3c0a button.colab-df-convert');\n",
              "        buttonEl.style.display =\n",
              "          google.colab.kernel.accessAllowed ? 'block' : 'none';\n",
              "\n",
              "        async function convertToInteractive(key) {\n",
              "          const element = document.querySelector('#df-34552f76-0ea9-47db-8d56-b5ccdb9d3c0a');\n",
              "          const dataTable =\n",
              "            await google.colab.kernel.invokeFunction('convertToInteractive',\n",
              "                                                     [key], {});\n",
              "          if (!dataTable) return;\n",
              "\n",
              "          const docLinkHtml = 'Like what you see? Visit the ' +\n",
              "            '<a target=\"_blank\" href=https://colab.research.google.com/notebooks/data_table.ipynb>data table notebook</a>'\n",
              "            + ' to learn more about interactive tables.';\n",
              "          element.innerHTML = '';\n",
              "          dataTable['output_type'] = 'display_data';\n",
              "          await google.colab.output.renderOutput(dataTable, element);\n",
              "          const docLink = document.createElement('div');\n",
              "          docLink.innerHTML = docLinkHtml;\n",
              "          element.appendChild(docLink);\n",
              "        }\n",
              "      </script>\n",
              "    </div>\n",
              "  </div>\n",
              "  "
            ]
          },
          "metadata": {},
          "execution_count": 20
        }
      ]
    },
    {
      "cell_type": "code",
      "source": [
        "#lets create connection to db\n",
        "engine = conn.create_engine(config.get('DB_CONN'))"
      ],
      "metadata": {
        "id": "iS-2ZDIQfFQm"
      },
      "execution_count": null,
      "outputs": []
    },
    {
      "cell_type": "code",
      "source": [
        "#lets save the new data to diff location\n",
        "df.to_csv('dataset/cleaned_data.csv', index=False)\n",
        "#loading into cloud based database\n",
        "df.to_sql('sakani', engine, if_exists='replace', index=False)"
      ],
      "metadata": {
        "id": "8a__PJ-bSTl6"
      },
      "execution_count": null,
      "outputs": []
    },
    {
      "cell_type": "markdown",
      "source": [
        "# Analysis Part"
      ],
      "metadata": {
        "id": "DkEisLSrVHUf"
      }
    },
    {
      "cell_type": "code",
      "source": [],
      "metadata": {
        "id": "P8zFWe-pVGeq"
      },
      "execution_count": null,
      "outputs": []
    }
  ]
}